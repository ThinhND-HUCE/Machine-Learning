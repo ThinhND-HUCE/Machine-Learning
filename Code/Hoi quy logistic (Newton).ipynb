{
 "cells": [
  {
   "cell_type": "code",
   "execution_count": 1,
   "metadata": {},
   "outputs": [],
   "source": [
    "import numpy as np"
   ]
  },
  {
   "cell_type": "code",
   "execution_count": 2,
   "metadata": {},
   "outputs": [
    {
     "data": {
      "text/plain": [
       "array([[1., 1., 2.],\n",
       "       [1., 2., 3.],\n",
       "       [1., 3., 1.],\n",
       "       [1., 2., 5.],\n",
       "       [1., 4., 3.]])"
      ]
     },
     "execution_count": 2,
     "metadata": {},
     "output_type": "execute_result"
    }
   ],
   "source": [
    "X = np.array([[1, 2], [2, 3], [3, 1], [2, 5], [4, 3]])\n",
    "Y = np.array([1, 1, 1, 0, 0])\n",
    "\n",
    "X = np.hstack((np.ones((X.shape[0], 1)), X))\n",
    "X"
   ]
  },
  {
   "cell_type": "code",
   "execution_count": 3,
   "metadata": {},
   "outputs": [],
   "source": [
    "def sigmoid(z):\n",
    "    return 1 / (1 + np.exp(-z))"
   ]
  },
  {
   "cell_type": "code",
   "execution_count": 4,
   "metadata": {},
   "outputs": [],
   "source": [
    "def loss(theta):\n",
    "    L = 0\n",
    "    for x, y in zip(X, Y):\n",
    "        if y == 0:\n",
    "            L += - np.log(1 - sigmoid(np.dot(theta, x)))\n",
    "        else:\n",
    "            L += - np.log(sigmoid(np.dot(theta, x)))\n",
    "    return L / len(Y)"
   ]
  },
  {
   "cell_type": "code",
   "execution_count": 5,
   "metadata": {},
   "outputs": [],
   "source": [
    "def gradient(theta):\n",
    "    G = 0\n",
    "    for x, y in zip(X, Y):\n",
    "        G += (sigmoid(np.dot(theta, x)) - y) * x\n",
    "    return G / len(Y)"
   ]
  },
  {
   "cell_type": "code",
   "execution_count": 6,
   "metadata": {},
   "outputs": [],
   "source": [
    "def Hess(theta):\n",
    "    H = 0\n",
    "    for x in X:\n",
    "        s = sigmoid(np.dot(theta, x))\n",
    "        H += s * (1 - s) * np.dot( np.expand_dims(x, axis=1), np.expand_dims(x, axis=0) )\n",
    "    return H / len(X)"
   ]
  },
  {
   "cell_type": "code",
   "execution_count": 7,
   "metadata": {},
   "outputs": [
    {
     "data": {
      "text/plain": [
       "array([[3.39247952e-05, 5.22589740e-05, 5.89410170e-05],\n",
       "       [5.22589740e-05, 1.07103931e-04, 7.76277316e-05],\n",
       "       [5.89410170e-05, 7.76277316e-05, 1.09317110e-04]])"
      ]
     },
     "execution_count": 7,
     "metadata": {},
     "output_type": "execute_result"
    }
   ],
   "source": [
    "Hess([1, 2, 3])"
   ]
  },
  {
   "cell_type": "code",
   "execution_count": 8,
   "metadata": {},
   "outputs": [],
   "source": [
    "# Phương pháp Newton\n",
    "initial_theta = np.zeros(X.shape[1])\n",
    "tolerance = 1e-5\n",
    "max_iters = 1e4\n",
    "\n",
    "theta = initial_theta\n",
    "num_iters = 0\n",
    "loss_history = [loss(theta)]\n",
    "while True:\n",
    "    num_iters += 1\n",
    "    theta -= np.dot(np.linalg.inv(Hess(theta)), gradient(theta))\n",
    "    loss_history.append(loss(theta))\n",
    "    if np.linalg.norm(gradient(theta)) < tolerance or num_iters == max_iters:\n",
    "        break"
   ]
  },
  {
   "cell_type": "code",
   "execution_count": 9,
   "metadata": {},
   "outputs": [
    {
     "data": {
      "text/plain": [
       "10"
      ]
     },
     "execution_count": 9,
     "metadata": {},
     "output_type": "execute_result"
    }
   ],
   "source": [
    "num_iters"
   ]
  },
  {
   "cell_type": "code",
   "execution_count": 10,
   "metadata": {},
   "outputs": [
    {
     "data": {
      "text/plain": [
       "array([ 58.35317463, -10.14013528,  -9.60751309])"
      ]
     },
     "execution_count": 10,
     "metadata": {},
     "output_type": "execute_result"
    }
   ],
   "source": [
    "theta"
   ]
  },
  {
   "cell_type": "code",
   "execution_count": 11,
   "metadata": {},
   "outputs": [
    {
     "data": {
      "text/plain": [
       "[0.6931471805599453,\n",
       " 0.2007138703104286,\n",
       " 0.08592648559374566,\n",
       " 0.03345481760821042,\n",
       " 0.012592544792054714,\n",
       " 0.004686972379752636,\n",
       " 0.001733611459848503,\n",
       " 0.0006391875866287854,\n",
       " 0.00023534697705479736,\n",
       " 8.660732009018547e-05,\n",
       " 3.186487004815665e-05]"
      ]
     },
     "execution_count": 11,
     "metadata": {},
     "output_type": "execute_result"
    }
   ],
   "source": [
    "loss_history"
   ]
  },
  {
   "cell_type": "code",
   "execution_count": 45,
   "metadata": {},
   "outputs": [],
   "source": [
    "x_pred = np.array([1, 1, 4])"
   ]
  },
  {
   "cell_type": "code",
   "execution_count": 46,
   "metadata": {},
   "outputs": [
    {
     "data": {
      "text/plain": [
       "0.9999436001128625"
      ]
     },
     "execution_count": 46,
     "metadata": {},
     "output_type": "execute_result"
    }
   ],
   "source": [
    "prob_pred = sigmoid(np.dot(theta, x_pred))\n",
    "prob_pred"
   ]
  },
  {
   "cell_type": "code",
   "execution_count": 47,
   "metadata": {},
   "outputs": [
    {
     "data": {
      "text/plain": [
       "1"
      ]
     },
     "execution_count": 47,
     "metadata": {},
     "output_type": "execute_result"
    }
   ],
   "source": [
    "y_pred = 1 if prob_pred >= 0.5 else 0\n",
    "y_pred"
   ]
  },
  {
   "cell_type": "code",
   "execution_count": 48,
   "metadata": {},
   "outputs": [
    {
     "data": {
      "text/plain": [
       "(-1.055438092285733, 6.0737023310057605)"
      ]
     },
     "execution_count": 48,
     "metadata": {},
     "output_type": "execute_result"
    }
   ],
   "source": [
    "a = - theta[1] / theta[2]\n",
    "b = - theta[0] / theta[2]\n",
    "a, b"
   ]
  },
  {
   "cell_type": "code",
   "execution_count": 49,
   "metadata": {},
   "outputs": [],
   "source": [
    "import matplotlib.pyplot as plt"
   ]
  },
  {
   "cell_type": "code",
   "execution_count": 50,
   "metadata": {},
   "outputs": [
    {
     "data": {
      "image/png": "[encoded data removed]",
      "text/plain": [
       "<Figure size 640x480 with 1 Axes>"
      ]
     },
     "metadata": {},
     "output_type": "display_data"
    }
   ],
   "source": [
    "plt.figure()\n",
    "plt.scatter(X[Y == 1][:, 1], X[Y == 1][:, 2], color = 'blue')\n",
    "plt.scatter(X[Y == 0][:, 1], X[Y == 0][:, 2], color = 'red')\n",
    "plt.scatter(x_pred[1], x_pred[2], color = 'purple', marker = 'x', s=100)\n",
    "\n",
    "\n",
    "X1 = np.linspace(0, 5, 100)\n",
    "X2 = a*X1 + b\n",
    "plt.plot(X1, X2, color = 'green')\n",
    "plt.show()"
   ]
  },
  {
   "cell_type": "code",
   "execution_count": null,
   "metadata": {},
   "outputs": [],
   "source": []
  }
 ],
 "metadata": {
  "kernelspec": {
   "display_name": "Python 3",
   "language": "python",
   "name": "python3"
  },
  "language_info": {
   "codemirror_mode": {
    "name": "ipython",
    "version": 3
   },
   "file_extension": ".py",
   "mimetype": "text/x-python",
   "name": "python",
   "nbconvert_exporter": "python",
   "pygments_lexer": "ipython3",
   "version": "3.11.4"
  },
  "orig_nbformat": 4
 },
 "nbformat": 4,
 "nbformat_minor": 2
}
