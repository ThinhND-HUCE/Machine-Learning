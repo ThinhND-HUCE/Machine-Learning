{
 "cells": [
  {
   "cell_type": "code",
   "execution_count": 1,
   "metadata": {},
   "outputs": [],
   "source": [
    "import numpy as np"
   ]
  },
  {
   "cell_type": "code",
   "execution_count": 2,
   "metadata": {},
   "outputs": [
    {
     "data": {
      "text/plain": [
       "array([[1., 1., 2.],\n",
       "       [1., 2., 3.],\n",
       "       [1., 3., 1.],\n",
       "       [1., 2., 5.],\n",
       "       [1., 4., 3.]])"
      ]
     },
     "execution_count": 2,
     "metadata": {},
     "output_type": "execute_result"
    }
   ],
   "source": [
    "# Tạo dữ liệu\n",
    "X = np.array([[1, 2], [2, 3], [3, 1], [2, 5], [4, 3]])\n",
    "Y = np.array([1, 1, 1, 0, 0])  # nhãn\n",
    "\n",
    "# Thêm cột bias (hàng đơn vị 1s) vào X\n",
    "X = np.hstack((np.ones((X.shape[0], 1)), X))  # X giờ là m x (n+1)\n",
    "X"
   ]
  },
  {
   "cell_type": "code",
   "execution_count": 3,
   "metadata": {},
   "outputs": [],
   "source": [
    "# Hàm sigmoid\n",
    "def sigmoid(z):\n",
    "    return 1 / (1 + np.exp(-z))"
   ]
  },
  {
   "cell_type": "code",
   "execution_count": 4,
   "metadata": {},
   "outputs": [],
   "source": [
    "# Hàm mất mát (log-likelihood hay cross-entropy loss)\n",
    "def loss(theta):\n",
    "    L = 0\n",
    "    for x, y in zip(X, Y):\n",
    "        if y == 0:\n",
    "            L += - np.log(1 - sigmoid(np.dot(theta, x)))\n",
    "        else:\n",
    "            L += - np.log(sigmoid(np.dot(theta, x)))\n",
    "    return L / len(Y)\n"
   ]
  },
  {
   "cell_type": "code",
   "execution_count": 5,
   "metadata": {},
   "outputs": [],
   "source": [
    "# Hàm tính gradient của hàm mất mát\n",
    "def gradient(theta):\n",
    "    G = 0  # mặc dù là số nhưng sau khi thực hiện vòng lặp lại là véctơ\n",
    "    for x, y in zip(X, Y):\n",
    "        G += (sigmoid(np.dot(theta, x)) - y) * x\n",
    "    return G / len(Y)"
   ]
  },
  {
   "cell_type": "code",
   "execution_count": 6,
   "metadata": {},
   "outputs": [],
   "source": [
    "from scipy.optimize import minimize"
   ]
  },
  {
   "cell_type": "code",
   "execution_count": 8,
   "metadata": {},
   "outputs": [
    {
     "data": {
      "text/plain": [
       "  message: Optimization terminated successfully.\n",
       "  success: True\n",
       "   status: 0\n",
       "      fun: 2.39804740936585e-06\n",
       "        x: [ 8.653e+01 -1.303e+01 -1.637e+01]\n",
       "      nit: 24\n",
       "      jac: [-2.230e-06 -4.293e-06 -6.690e-06]\n",
       " hess_inv: [[ 6.837e+06 -1.104e+06 -1.215e+06]\n",
       "            [-1.104e+06  1.784e+05  1.962e+05]\n",
       "            [-1.215e+06  1.962e+05  2.158e+05]]\n",
       "     nfev: 25\n",
       "     njev: 25"
      ]
     },
     "execution_count": 8,
     "metadata": {},
     "output_type": "execute_result"
    }
   ],
   "source": [
    "# Khởi tạo các tham số\n",
    "initial_theta = np.zeros(X.shape[1])  # vector tham số ban đầu với kích thước (n+1)\n",
    "# Sử dụng scipy.optimize.minimize để tối ưu hóa hàm mất mát\n",
    "result = minimize(loss, initial_theta, method='BFGS', jac=gradient)\n",
    "result"
   ]
  },
  {
   "cell_type": "code",
   "execution_count": 9,
   "metadata": {},
   "outputs": [
    {
     "data": {
      "text/plain": [
       "array([ 86.5346514 , -13.02613582, -16.37178228])"
      ]
     },
     "execution_count": 9,
     "metadata": {},
     "output_type": "execute_result"
    }
   ],
   "source": [
    "theta = result.x\n",
    "theta"
   ]
  },
  {
   "cell_type": "code",
   "execution_count": 10,
   "metadata": {},
   "outputs": [
    {
     "data": {
      "text/plain": [
       "0.9996717433521698"
      ]
     },
     "execution_count": 10,
     "metadata": {},
     "output_type": "execute_result"
    }
   ],
   "source": [
    "# Dự đoán nhãn cho điểm mới (1, 4)\n",
    "x_pred = np.array([1, 1, 4])  # thêm 1 cho bias\n",
    "prob_pred = sigmoid(np.dot(theta, x_pred))\n",
    "prob_pred"
   ]
  },
  {
   "cell_type": "code",
   "execution_count": 11,
   "metadata": {},
   "outputs": [
    {
     "data": {
      "text/plain": [
       "1"
      ]
     },
     "execution_count": 11,
     "metadata": {},
     "output_type": "execute_result"
    }
   ],
   "source": [
    "y_pred = 1 if prob_pred >= 0.5 else 0\n",
    "y_pred"
   ]
  },
  {
   "cell_type": "code",
   "execution_count": 12,
   "metadata": {},
   "outputs": [
    {
     "data": {
      "text/plain": [
       "(-0.7956455563206166, 5.285597495996024)"
      ]
     },
     "execution_count": 12,
     "metadata": {},
     "output_type": "execute_result"
    }
   ],
   "source": [
    "a = - theta[1] / theta[2]\n",
    "b = - theta[0] / theta[2]\n",
    "a, b"
   ]
  },
  {
   "cell_type": "code",
   "execution_count": 13,
   "metadata": {},
   "outputs": [],
   "source": [
    "import matplotlib.pyplot as plt"
   ]
  },
  {
   "cell_type": "code",
   "execution_count": 14,
   "metadata": {},
   "outputs": [
    {
     "data": {
      "image/png": "[encoded data removed]",
      "text/plain": [
       "<Figure size 640x480 with 1 Axes>"
      ]
     },
     "metadata": {},
     "output_type": "display_data"
    }
   ],
   "source": [
    "# Trực quan hóa các điểm và đường phân tách\n",
    "plt.figure()\n",
    "\n",
    "# (1) Vẽ các điểm gán nhãn 1\n",
    "plt.scatter(X[Y == 1][:, 1], X[Y == 1][:, 2], color='blue', label='Nhãn 1')\n",
    "\n",
    "# (2) Vẽ các điểm gán nhãn 0\n",
    "plt.scatter(X[Y == 0][:, 1], X[Y == 0][:, 2], color='red', label='Nhãn 0')\n",
    "\n",
    "# (3) Xây dựng đường phân tách\n",
    "X1 = np.linspace(0, 5, 100)\n",
    "X2 = a * X1 + b\n",
    "plt.plot(X1, X2, label='Đường phân tách', color='green')\n",
    "\n",
    "# (4) Vẽ điểm mới (1, 4) với nhãn dự báo\n",
    "plt.scatter(x_pred[1], x_pred[2], color='purple', marker='x', s=100, label=f'Điểm (1, 4), nhãn dự báo: {y_pred}')\n",
    "\n",
    "# Đặt tên trục và tiêu đề\n",
    "plt.xlabel('$x_1$')\n",
    "plt.ylabel('$x_2$')\n",
    "plt.legend()\n",
    "\n",
    "# Hiển thị biểu đồ\n",
    "plt.show()"
   ]
  },
  {
   "cell_type": "code",
   "execution_count": 26,
   "metadata": {},
   "outputs": [],
   "source": [
    "# Hàm mất mát và gradient của nó theo tham khảo ChatGPT\n",
    "\n",
    "# Hàm mất mát (log-likelihood hay cross-entropy loss)\n",
    "def compute_loss(theta, X, Y):\n",
    "    m = len(Y)\n",
    "    h = sigmoid(np.dot(X, theta))\n",
    "    epsilon = 1e-5  # thêm để tránh log(0)\n",
    "    loss = -1/m * (np.dot(Y, np.log(h + epsilon)) + np.dot((1 - Y), np.log(1 - h + epsilon)))\n",
    "    return loss\n",
    "\n",
    "# Hàm tính gradient của hàm mất mát\n",
    "def compute_gradient(theta, X, Y):\n",
    "    m = len(Y)\n",
    "    h = sigmoid(np.dot(X, theta))\n",
    "    gradient = np.dot(X.T, (h - Y)) / m\n",
    "    return gradient\n"
   ]
  },
  {
   "cell_type": "code",
   "execution_count": null,
   "metadata": {},
   "outputs": [],
   "source": []
  }
 ],
 "metadata": {
  "kernelspec": {
   "display_name": "Python 3",
   "language": "python",
   "name": "python3"
  },
  "language_info": {
   "codemirror_mode": {
    "name": "ipython",
    "version": 3
   },
   "file_extension": ".py",
   "mimetype": "text/x-python",
   "name": "python",
   "nbconvert_exporter": "python",
   "pygments_lexer": "ipython3",
   "version": "3.11.4"
  },
  "orig_nbformat": 4
 },
 "nbformat": 4,
 "nbformat_minor": 2
}
